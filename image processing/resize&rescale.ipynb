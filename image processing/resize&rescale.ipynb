{
 "cells": [
  {
   "attachments": {},
   "cell_type": "markdown",
   "metadata": {},
   "source": [
    "resize and rescale"
   ]
  },
  {
   "cell_type": "code",
   "execution_count": null,
   "metadata": {},
   "outputs": [],
   "source": [
    "import cv2 as cv \n",
    "import numpy as np\n",
    "\n",
    "def resize_frame (frame, scale=0.75):\n",
    "    width=int(frame.shape[1]*scale)\n",
    "    hight=int(frame.shape[0]*scale)\n",
    "    dimensions=(width ,hight)\n",
    "    return cv.resize(frame ,dimensions, interpolation=cv.INTER_AREA)\n",
    "#for an image \n",
    "img=cv.imread('data/cat1.jpeg')\n",
    "img_res=resize_frame(img)\n",
    "cv.imshow('cat',img_res)\n",
    "cv.waitKey(0)\n",
    "#for saved video\n",
    "capture=cv.VideoCapture('data/bird.mp4')\n",
    "while True:\n",
    "    isTrue, frame = capture.read()\n",
    "    frame_resized=resize_frame(frame)\n",
    "    cv.imshow('vid',frame)\n",
    "    cv.imshow('vid2',frame_resized)\n",
    "    if cv.waitKey(20) &0xff==ord('z'):\n",
    "        break\n",
    "\n",
    "capture.release()\n",
    "cv.destroyAllWindows()\n"
   ]
  },
  {
   "attachments": {},
   "cell_type": "markdown",
   "metadata": {},
   "source": [
    "for live cam"
   ]
  },
  {
   "cell_type": "code",
   "execution_count": 1,
   "metadata": {},
   "outputs": [],
   "source": [
    "import cv2 as cv \n",
    "import numpy as np\n",
    "\n",
    "def resize_frame (frame , scale=0.5):\n",
    "    width=int(frame.shape[1]*scale)\n",
    "    hight=int(frame.shape[0]*scale)\n",
    "    dimensions=(width ,hight)\n",
    "    return cv.resize(frame ,dimensions, interpolation=cv.INTER_AREA)\n",
    "\n",
    "#for live cam\n",
    "capture=cv.VideoCapture(0)\n",
    "while True:\n",
    "    isTrue, frame = capture.read()\n",
    "    frame_resized=resize_frame(frame)\n",
    "    cv.imshow('vid',frame)\n",
    "    cv.imshow('vid2',frame_resized)\n",
    "    if cv.waitKey(20) &0xff==ord('q'):\n",
    "        break\n",
    "\n",
    "capture.release()\n",
    "cv.destroyAllWindows()"
   ]
  }
 ],
 "metadata": {
  "kernelspec": {
   "display_name": "Python 3",
   "language": "python",
   "name": "python3"
  },
  "language_info": {
   "codemirror_mode": {
    "name": "ipython",
    "version": 3
   },
   "file_extension": ".py",
   "mimetype": "text/x-python",
   "name": "python",
   "nbconvert_exporter": "python",
   "pygments_lexer": "ipython3",
   "version": "3.10.6"
  },
  "orig_nbformat": 4,
  "vscode": {
   "interpreter": {
    "hash": "62ef9116e95a0ddd64929db32cd94b31f295f2cd9d8a45dd60b3cfbed580428b"
   }
  }
 },
 "nbformat": 4,
 "nbformat_minor": 2
}
