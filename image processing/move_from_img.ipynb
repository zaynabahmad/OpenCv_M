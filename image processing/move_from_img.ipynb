{
 "cells": [
  {
   "attachments": {},
   "cell_type": "markdown",
   "metadata": {},
   "source": [
    "move particular area from the image\n"
   ]
  },
  {
   "cell_type": "code",
   "execution_count": null,
   "metadata": {},
   "outputs": [],
   "source": [
    "import cv2 \n",
    "import numpy as np\n",
    "import os\n",
    "#----------------------------------------------------------\n",
    "def click_event(event ,x, y, flages, param):\n",
    "    if event==cv2.EVENT_LBUTTONDOWN:\n",
    "        text=str(x)+\",\"+str(y)\n",
    "        cv2.putText(img, text, (x, y),cv2.FONT_HERSHEY_COMPLEX, 2, (255, 0, 255), 2)\n",
    "        cv2.imshow(\"dog\", img)\n",
    "#--------------------------------------------------------\n",
    "\n",
    "img= cv2.imread('data/dog2.jpeg')\n",
    "img1=cv2.imread('data/dog1.jpeg')\n",
    "dst=cv2.add(img, img1)\n",
    "dst=cv2.addWeighted(img, 0.2, img1, 0.3,30) #to add with ratio\n",
    "\n",
    "img=cv2.resize(img,(512,512)) #for resize\n",
    "img1=cv2.resize(img1,(512,512))\n",
    "dst=cv2.resize(dst, (512, 512))\n",
    "cv2.imshow(\"the dst\",dst)\n",
    "#_______________________-\n",
    "#move particular area\n",
    "face= img[150:260,118:318]\n",
    "img[10:120,20:220]=face\n",
    "#_________________________________-\n",
    "cv2.imshow(\"dog\", img)\n",
    "cv2.setMouseCallback(\"dog\", click_event)\n",
    "cv2.waitKey(0)\n",
    "cv2.destroyAllWindows"
   ]
  },
  {
   "cell_type": "code",
   "execution_count": null,
   "metadata": {},
   "outputs": [],
   "source": []
  }
 ],
 "metadata": {
  "kernelspec": {
   "display_name": "Python 3",
   "language": "python",
   "name": "python3"
  },
  "language_info": {
   "name": "python",
   "version": "3.10.6 (tags/v3.10.6:9c7b4bd, Aug  1 2022, 21:53:49) [MSC v.1932 64 bit (AMD64)]"
  },
  "orig_nbformat": 4,
  "vscode": {
   "interpreter": {
    "hash": "62ef9116e95a0ddd64929db32cd94b31f295f2cd9d8a45dd60b3cfbed580428b"
   }
  }
 },
 "nbformat": 4,
 "nbformat_minor": 2
}
