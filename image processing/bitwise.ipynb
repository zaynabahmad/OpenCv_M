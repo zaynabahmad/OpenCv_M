{
 "cells": [
  {
   "attachments": {},
   "cell_type": "markdown",
   "metadata": {},
   "source": [
    "bitwise"
   ]
  },
  {
   "cell_type": "code",
   "execution_count": null,
   "metadata": {},
   "outputs": [],
   "source": [
    "#bitwise\n",
    "import cv2 as cv \n",
    "import numpy as np \n",
    "#first image\n",
    "img= np.zeros((250, 500, 3), dtype=np.uint8)\n",
    "img = cv.rectangle(img,(200, 0), (300, 100), (255, 255, 255), -1)\n",
    "cv.imshow('img1/read',img)\n",
    "#second image\n",
    "img1= np.zeros((250, 500, 3), dtype=np.uint8)\n",
    "img1 = cv.rectangle(img1,(0, 0), (300, 100), (255, 255, 255), -1)\n",
    "cv.imshow('img2/read',img1)\n",
    "#bitwise OPeration \n",
    "bitwise_and=cv.bitwise_and(img, img1)\n",
    "bitwise_or=cv.bitwise_or(img, img1)\n",
    "bitwise_not1=cv.bitwise_not(img)\n",
    "bitwise_not2=cv.bitwise_not(img1)\n",
    "bitwise_xor=cv.bitwise_xor(img, img1)\n",
    "#display the result\n",
    "cv.imshow('AND', bitwise_and)\n",
    "cv.imshow('OR', bitwise_or)\n",
    "cv.imshow('NOT1', bitwise_not1)\n",
    "cv.imshow('NOT2', bitwise_not2) \n",
    "cv.imshow('XOR', bitwise_xor)\n",
    "\n",
    "\n",
    "cv.waitKey(0)\n",
    "cv.destroyAllWindows(0)"
   ]
  }
 ],
 "metadata": {
  "kernelspec": {
   "display_name": "Python 3",
   "language": "python",
   "name": "python3"
  },
  "language_info": {
   "name": "python",
   "version": "3.10.6 (tags/v3.10.6:9c7b4bd, Aug  1 2022, 21:53:49) [MSC v.1932 64 bit (AMD64)]"
  },
  "orig_nbformat": 4,
  "vscode": {
   "interpreter": {
    "hash": "62ef9116e95a0ddd64929db32cd94b31f295f2cd9d8a45dd60b3cfbed580428b"
   }
  }
 },
 "nbformat": 4,
 "nbformat_minor": 2
}
