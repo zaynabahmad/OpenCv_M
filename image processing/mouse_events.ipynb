{
 "cells": [
  {
   "attachments": {},
   "cell_type": "markdown",
   "metadata": {},
   "source": [
    "print all functions started with name events"
   ]
  },
  {
   "cell_type": "code",
   "execution_count": null,
   "metadata": {},
   "outputs": [],
   "source": [
    "import cv2 \n",
    "import numpy as np \n",
    "events =[i for i in dir(cv2) if 'EVENT' in i]\n",
    "print (events)"
   ]
  },
  {
   "attachments": {},
   "cell_type": "markdown",
   "metadata": {},
   "source": [
    "#handle mouse events 1\n"
   ]
  },
  {
   "cell_type": "code",
   "execution_count": null,
   "metadata": {},
   "outputs": [],
   "source": [
    "\n",
    "import cv2 \n",
    "import numpy as np \n",
    "#---------------------------------------------------------------------#\n",
    "def click_event(event ,x ,y ,flags ,param):\n",
    "    if event== cv2.EVENT_LBUTTONDOWN:              #for Lbutton\n",
    "        print(x ,', ' ,y)\n",
    "        font=cv2.FONT_HERSHEY_COMPLEX\n",
    "        strxy=str(x) +','+str(y)\n",
    "        cv2.putText(img ,strxy ,(x ,y) ,font ,.5 ,(255 ,255 ,0) ,1)\n",
    "        cv2.imshow('image' ,img)\n",
    "    if event ==cv2.EVENT_RBUTTONDOWN:            #for Rbutton\n",
    "        blue =img[x ,y , 2]\n",
    "        green =img[x ,y ,1]\n",
    "        red =img[x ,y ,0]\n",
    "        font=cv2.FONT_HERSHEY_COMPLEX\n",
    "        strcol=str(blue)+','+str(green) +','+str(red)\n",
    "        cv2.putText(img ,strcol ,(x ,y) ,font ,.5 ,(255 ,255 ,0) ,1)\n",
    "        cv2.imshow('image' ,img)\n",
    "#-----------------------------------------------------------------------#\n",
    "img =cv2.imread('data/dog1.jpeg')\n",
    "cv2.imshow('image' ,img)\n",
    "cv2.setMouseCallback('image' ,click_event)\n",
    "cv2.waitKey(0)\n",
    "cv2.destroyAllWindows(0)"
   ]
  },
  {
   "attachments": {},
   "cell_type": "markdown",
   "metadata": {},
   "source": [
    "ex:2\n"
   ]
  },
  {
   "cell_type": "code",
   "execution_count": null,
   "metadata": {},
   "outputs": [],
   "source": [
    "\n",
    "import numpy as np \n",
    "import cv2\n",
    "# reate a small blue circle and connect each circle with the prev\n",
    "def click_event(event ,x ,y ,flages ,param ):\n",
    "   if event==cv2.EVENT_LBUTTONDOWN:\n",
    "       cv2.circle(image ,(x ,y) ,10 ,(255 ,0, 0),-1)\n",
    "       points.append((x ,y))\n",
    "   if len(points)>=2:\n",
    "       cv2.line(image ,points[-1] ,points[-2] ,(0 ,255 ,255), 1)\n",
    "   cv2.imshow('img' ,image)\n",
    "#-------------------------------------------------------#\n",
    "image =np.zeros((520 ,520, 3),np.uint8)       #create a blank black img\n",
    "cv2.imshow('img' ,image)\n",
    "points=[]\n",
    "cv2.setMouseCallback('img' ,click_event)      #callback\n",
    "cv2.waitKey(0)\n",
    "cv2.destroyAllWindows()\n",
    "\n"
   ]
  },
  {
   "attachments": {},
   "cell_type": "markdown",
   "metadata": {},
   "source": [
    "ex:3\n"
   ]
  },
  {
   "cell_type": "code",
   "execution_count": null,
   "metadata": {},
   "outputs": [],
   "source": [
    "#handle mouse events\n",
    "import cv2\n",
    "import numpy as np\n",
    "#create a new image with specifuc color  \n",
    "def click_event(event ,x ,y,flages , param):\n",
    "    if event==cv2.EVENT_LBUTTONDOWN:\n",
    "        blue=img[x, y,0]                     #_________-stops at index 168!!!!!!!!!!!!!_________\n",
    "        green=img[x,y,1]      \n",
    "        red =img[x,y,2]\n",
    "        new_image= np.zeros((550 ,550, 3) ,dtype=np.uint8)\n",
    "        new_image[:]=[blue ,green ,red]\n",
    "        cv2.imshow(\"new\", new_image)\n",
    "#----------------------------------------------------------------------#\n",
    "img =cv2.imread('data/cat1.jpeg', )\n",
    "cv2.imshow('cat', img)\n",
    "cv2.setMouseCallback('cat', click_event)\n",
    "cv2.waitKey(0)\n",
    "cv2.destroyAllWindows()"
   ]
  },
  {
   "attachments": {},
   "cell_type": "markdown",
   "metadata": {},
   "source": [
    "move particular area from the image\n"
   ]
  },
  {
   "cell_type": "code",
   "execution_count": null,
   "metadata": {},
   "outputs": [],
   "source": [
    "import cv2 \n",
    "import numpy as np\n",
    "import os\n",
    "#----------------------------------------------------------\n",
    "def click_event(event ,x, y, flages, param):\n",
    "    if event==cv2.EVENT_LBUTTONDOWN:\n",
    "        text=str(x)+\",\"+str(y)\n",
    "        cv2.putText(img, text, (x, y),cv2.FONT_HERSHEY_COMPLEX, 2, (255, 0, 255), 2)\n",
    "        cv2.imshow(\"dog\", img)\n",
    "#--------------------------------------------------------\n",
    "\n",
    "img= cv2.imread('data/dog2.jpeg')\n",
    "img1=cv2.imread('data/dog1.jpeg')\n",
    "dst=cv2.add(img, img1)\n",
    "dst=cv2.addWeighted(img, 0.2, img1, 0.3,30) #to add with ratio\n",
    "\n",
    "img=cv2.resize(img,(512,512)) #for resize\n",
    "img1=cv2.resize(img1,(512,512))\n",
    "dst=cv2.resize(dst, (512, 512))\n",
    "cv2.imshow(\"the dst\",dst)\n",
    "#_______________________-\n",
    "#move particular area\n",
    "face= img[150:260,118:318]\n",
    "img[10:120,20:220]=face\n",
    "#_________________________________-\n",
    "cv2.imshow(\"dog\", img)\n",
    "cv2.setMouseCallback(\"dog\", click_event)\n",
    "cv2.waitKey(0)\n",
    "cv2.destroyAllWindows"
   ]
  },
  {
   "attachments": {},
   "cell_type": "markdown",
   "metadata": {},
   "source": [
    "bitwise"
   ]
  },
  {
   "cell_type": "code",
   "execution_count": null,
   "metadata": {},
   "outputs": [],
   "source": [
    "#bitwise\n",
    "import cv2 as cv \n",
    "import numpy as np \n",
    "#first image\n",
    "img= np.zeros((250, 500, 3), dtype=np.uint8)\n",
    "img = cv.rectangle(img,(200, 0), (300, 100), (255, 255, 255), -1)\n",
    "cv.imshow('img1/read',img)\n",
    "#second image\n",
    "img1= np.zeros((250, 500, 3), dtype=np.uint8)\n",
    "img1 = cv.rectangle(img1,(0, 0), (300, 100), (255, 255, 255), -1)\n",
    "cv.imshow('img2/read',img1)\n",
    "#bitwise OPeration \n",
    "bitwise_and=cv.bitwise_and(img, img1)\n",
    "bitwise_or=cv.bitwise_or(img, img1)\n",
    "bitwise_not1=cv.bitwise_not(img)\n",
    "bitwise_not2=cv.bitwise_not(img1)\n",
    "bitwise_xor=cv.bitwise_xor(img, img1)\n",
    "#display the result\n",
    "cv.imshow('AND', bitwise_and)\n",
    "cv.imshow('OR', bitwise_or)\n",
    "cv.imshow('NOT1', bitwise_not1)\n",
    "cv.imshow('NOT2', bitwise_not2) \n",
    "cv.imshow('XOR', bitwise_xor)\n",
    "\n",
    "\n",
    "cv.waitKey(0)\n",
    "cv.destroyAllWindows(0)"
   ]
  },
  {
   "attachments": {},
   "cell_type": "markdown",
   "metadata": {},
   "source": [
    "trackbar"
   ]
  },
  {
   "cell_type": "code",
   "execution_count": null,
   "metadata": {},
   "outputs": [],
   "source": [
    "#trackbar\n",
    "import cv2 as cv\n",
    "import numpy as np \n",
    "\n",
    "def nothing(x):\n",
    "  print (x)\n",
    "\n",
    "\n",
    "img = np.zeros((300,512,3), np.uint8)\n",
    "cv.namedWindow('image')\n",
    "\n",
    "cv.createTrackbar('B', 'image', 0, 255, nothing)\n",
    "cv.createTrackbar('G', 'image', 0, 255, nothing)\n",
    "cv.createTrackbar('R', 'image', 0, 255, nothing)\n",
    "\n",
    "switch = '0 : OFF\\n 1 : ON'\n",
    "cv.createTrackbar(switch, 'image', 0, 1, nothing)\n",
    "while(1):\n",
    "    cv.imshow('image',img)    \n",
    "    k = cv.waitKey(1) & 0xFF    \n",
    "    if k == 27:#esc    \n",
    "        break        \n",
    "\n",
    "\n",
    "    r=cv.getTrackbarPos('R','image')\n",
    "    g=cv.getTrackbarPos('G','image')\n",
    "    b=cv.getTrackbarPos('B','image')\n",
    "    s=cv.getTrackbarPos(switch,'image')\n",
    "    if s == 0:\n",
    "       img[:] = 0   \n",
    "    else:\n",
    "       img[:] = [b, g, r]   \n",
    "\n",
    "cv.destroyAllWindows()\n",
    "\n",
    "\n",
    "\n"
   ]
  },
  {
   "cell_type": "code",
   "execution_count": null,
   "metadata": {},
   "outputs": [],
   "source": []
  },
  {
   "cell_type": "code",
   "execution_count": null,
   "metadata": {},
   "outputs": [],
   "source": []
  },
  {
   "cell_type": "code",
   "execution_count": null,
   "metadata": {},
   "outputs": [],
   "source": []
  },
  {
   "cell_type": "code",
   "execution_count": null,
   "metadata": {},
   "outputs": [],
   "source": []
  },
  {
   "cell_type": "code",
   "execution_count": null,
   "metadata": {},
   "outputs": [],
   "source": []
  },
  {
   "cell_type": "code",
   "execution_count": null,
   "metadata": {},
   "outputs": [],
   "source": []
  }
 ],
 "metadata": {
  "kernelspec": {
   "display_name": "Python 3",
   "language": "python",
   "name": "python3"
  },
  "language_info": {
   "codemirror_mode": {
    "name": "ipython",
    "version": 3
   },
   "file_extension": ".py",
   "mimetype": "text/x-python",
   "name": "python",
   "nbconvert_exporter": "python",
   "pygments_lexer": "ipython3",
   "version": "3.10.6"
  },
  "orig_nbformat": 4,
  "vscode": {
   "interpreter": {
    "hash": "62ef9116e95a0ddd64929db32cd94b31f295f2cd9d8a45dd60b3cfbed580428b"
   }
  }
 },
 "nbformat": 4,
 "nbformat_minor": 2
}
