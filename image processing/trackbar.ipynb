{
 "cells": [
  {
   "attachments": {},
   "cell_type": "markdown",
   "metadata": {},
   "source": [
    "trackbar"
   ]
  },
  {
   "cell_type": "code",
   "execution_count": null,
   "metadata": {},
   "outputs": [],
   "source": [
    "#trackbar\n",
    "import cv2 as cv\n",
    "import numpy as np \n",
    "\n",
    "def nothing(x):\n",
    "  print (x)\n",
    "\n",
    "\n",
    "img = np.zeros((300,512,3), np.uint8)\n",
    "cv.namedWindow('image')\n",
    "\n",
    "cv.createTrackbar('B', 'image', 0, 255, nothing)\n",
    "cv.createTrackbar('G', 'image', 0, 255, nothing)\n",
    "cv.createTrackbar('R', 'image', 0, 255, nothing)\n",
    "\n",
    "switch = '0 : OFF\\n 1 : ON'\n",
    "cv.createTrackbar(switch, 'image', 0, 1, nothing)\n",
    "while(1):\n",
    "    cv.imshow('image',img)    \n",
    "    k = cv.waitKey(1) & 0xFF    \n",
    "    if k == 27:#esc    \n",
    "        break        \n",
    "\n",
    "\n",
    "    r=cv.getTrackbarPos('R','image')\n",
    "    g=cv.getTrackbarPos('G','image')\n",
    "    b=cv.getTrackbarPos('B','image')\n",
    "    s=cv.getTrackbarPos(switch,'image')\n",
    "    if s == 0:\n",
    "       img[:] = 0   \n",
    "    else:\n",
    "       img[:] = [b, g, r]   \n",
    "\n",
    "cv.destroyAllWindows()\n",
    "\n",
    "\n",
    "\n"
   ]
  }
 ],
 "metadata": {
  "kernelspec": {
   "display_name": "Python 3",
   "language": "python",
   "name": "python3"
  },
  "language_info": {
   "name": "python",
   "version": "3.10.6 (tags/v3.10.6:9c7b4bd, Aug  1 2022, 21:53:49) [MSC v.1932 64 bit (AMD64)]"
  },
  "orig_nbformat": 4,
  "vscode": {
   "interpreter": {
    "hash": "62ef9116e95a0ddd64929db32cd94b31f295f2cd9d8a45dd60b3cfbed580428b"
   }
  }
 },
 "nbformat": 4,
 "nbformat_minor": 2
}
